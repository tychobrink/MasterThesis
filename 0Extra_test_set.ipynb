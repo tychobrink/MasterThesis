{
 "cells": [
  {
   "cell_type": "code",
   "execution_count": null,
   "metadata": {},
   "outputs": [],
   "source": [
    "import pandas as pd\n",
    "import numpy as np"
   ]
  },
  {
   "cell_type": "code",
   "execution_count": null,
   "metadata": {},
   "outputs": [],
   "source": [
    "\n",
    "label_encoded_features= pd.read_csv('listings_features_label_encoded_outofsample.csv')\n",
    "reviews_features = pd.read_csv('listings_features_reviews_out_of_sample.csv')\n",
    "sentiment_features= pd.read_csv('average_sentiment_per_topic_listing_out_of_sample.csv')\n",
    "\n"
   ]
  },
  {
   "cell_type": "code",
   "execution_count": 2,
   "metadata": {},
   "outputs": [
    {
     "name": "stdout",
     "output_type": "stream",
     "text": [
      "(18892, 99)\n",
      "(18892, 11)\n",
      "(19621, 6)\n"
     ]
    }
   ],
   "source": [
    "print(label_encoded_features.shape)\n",
    "print(reviews_features.shape)\n",
    "print(sentiment_features.shape)"
   ]
  },
  {
   "cell_type": "code",
   "execution_count": 3,
   "metadata": {},
   "outputs": [],
   "source": [
    "sentiment_features['id']=sentiment_features['listing_id']\n",
    "sentiment_features.drop(columns=['listing_id'], inplace=True)"
   ]
  },
  {
   "cell_type": "code",
   "execution_count": 4,
   "metadata": {},
   "outputs": [
    {
     "name": "stdout",
     "output_type": "stream",
     "text": [
      "Reviews sentiment shape: (16338, 16)\n"
     ]
    }
   ],
   "source": [
    "#We will merge the sentiment and reviews to get the review-related features and keep sure this are the same listings as in the non-review related feature sets.\n",
    "reviews_sentiment_features=pd.merge(sentiment_features, reviews_features, on='id', how='inner')\n",
    "print('Reviews sentiment shape:', reviews_sentiment_features.shape)\n"
   ]
  },
  {
   "cell_type": "code",
   "execution_count": 5,
   "metadata": {},
   "outputs": [],
   "source": [
    "listings=reviews_sentiment_features['id']\n",
    "label_encoded_features=label_encoded_features[label_encoded_features['id'].isin(listings)]\n",
    "reviews_features=reviews_features[reviews_features['id'].isin(listings)]"
   ]
  },
  {
   "cell_type": "code",
   "execution_count": 6,
   "metadata": {},
   "outputs": [
    {
     "name": "stdout",
     "output_type": "stream",
     "text": [
      "(16338, 99)\n",
      "(16338, 11)\n",
      "(16338, 16)\n"
     ]
    }
   ],
   "source": [
    "print(label_encoded_features.shape)\n",
    "print(reviews_features.shape)\n",
    "print(reviews_sentiment_features.shape)"
   ]
  },
  {
   "cell_type": "code",
   "execution_count": 7,
   "metadata": {},
   "outputs": [
    {
     "name": "stdout",
     "output_type": "stream",
     "text": [
      "Reviews sentiment including price shape: (16338, 17)\n",
      "Reviews including price shape: (16338, 12)\n"
     ]
    }
   ],
   "source": [
    "reviews_sentiment_including_price=pd.merge(reviews_sentiment_features, label_encoded_features[['id','price']], on='id', how='inner')\n",
    "reviews_features_including_price=pd.merge(reviews_features, label_encoded_features[['id','price']], on='id', how='inner')\n",
    "print('Reviews sentiment including price shape:', reviews_sentiment_including_price.shape)\n",
    "print('Reviews including price shape:', reviews_features_including_price.shape)"
   ]
  },
  {
   "cell_type": "code",
   "execution_count": 8,
   "metadata": {},
   "outputs": [],
   "source": [
    "reviews_sentiment_listings_label_encoded= pd.merge(reviews_sentiment_features, label_encoded_features, on='id', how='inner')\n",
    "reviews_without_sentiment_listings_label_encoded= pd.merge(reviews_sentiment_features, label_encoded_features, on='id', how='inner').drop(columns=['sentiment_topic_0','sentiment_topic_1','sentiment_topic_2','sentiment_topic_3'])\n"
   ]
  },
  {
   "cell_type": "code",
   "execution_count": 9,
   "metadata": {},
   "outputs": [
    {
     "name": "stdout",
     "output_type": "stream",
     "text": [
      "(16338, 99)\n",
      "(16338, 110)\n",
      "(16338, 114)\n",
      "(16338, 17)\n"
     ]
    }
   ],
   "source": [
    "print(label_encoded_features.shape)\n",
    "print(reviews_without_sentiment_listings_label_encoded.shape)\n",
    "print(reviews_sentiment_listings_label_encoded.shape)\n",
    "print(reviews_sentiment_including_price.shape)\n"
   ]
  },
  {
   "cell_type": "code",
   "execution_count": 10,
   "metadata": {},
   "outputs": [],
   "source": [
    "#We see that the number of columns are the same as the training sets, so we can save these files and use them for the model.\n",
    "label_encoded_features.to_csv('extra_test_set_feature_set1.csv', index=False)\n",
    "reviews_without_sentiment_listings_label_encoded.to_csv('extra_test_set_feature_set2.csv', index=False)\n",
    "reviews_sentiment_listings_label_encoded.to_csv('extra_test_set_feature_set3.csv', index=False)\n",
    "reviews_sentiment_including_price.to_csv('extra_test_set_feature_set4.csv', index=False)"
   ]
  }
 ],
 "metadata": {
  "kernelspec": {
   "display_name": "Python 3",
   "language": "python",
   "name": "python3"
  },
  "language_info": {
   "codemirror_mode": {
    "name": "ipython",
    "version": 3
   },
   "file_extension": ".py",
   "mimetype": "text/x-python",
   "name": "python",
   "nbconvert_exporter": "python",
   "pygments_lexer": "ipython3",
   "version": "3.13.0"
  }
 },
 "nbformat": 4,
 "nbformat_minor": 2
}
